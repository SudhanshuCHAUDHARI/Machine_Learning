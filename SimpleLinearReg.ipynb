{
 "cells": [
  {
   "cell_type": "code",
   "execution_count": 1,
   "metadata": {},
   "outputs": [],
   "source": [
    "import numpy as np\n",
    "import matplotlib.pyplot as plt\n",
    "import pandas as pd\n",
    "import seaborn as sns"
   ]
  },
  {
   "cell_type": "code",
   "execution_count": 2,
   "metadata": {},
   "outputs": [],
   "source": [
    "X = np.array([[34,108,64,88,99,51]])\n",
    "Y = np.array([[5.00,17.00,11.00,8.00,14.00,5.00]])\n",
    "\n",
    "Ybar = np.mean(Y)\n"
   ]
  },
  {
   "cell_type": "code",
   "execution_count": 8,
   "metadata": {},
   "outputs": [
    {
     "data": {
      "image/png": "[encoded data removed]",
      "text/plain": [
       "<Figure size 432x288 with 1 Axes>"
      ]
     },
     "metadata": {
      "needs_background": "light"
     },
     "output_type": "display_data"
    }
   ],
   "source": [
    "plt.plot(X,Y,'.r')\n",
    "plt.plot(X,(X*0+Ybar),'.g')\n",
    "plt.show()"
   ]
  },
  {
   "cell_type": "code",
   "execution_count": 4,
   "metadata": {},
   "outputs": [
    {
     "data": {
      "text/plain": [
       "array([[-5.,  7.,  1., -2.,  4., -5.]])"
      ]
     },
     "execution_count": 4,
     "metadata": {},
     "output_type": "execute_result"
    }
   ],
   "source": [
    "#Residuals(ERRORS) from the best fit line ybar=10+0(X) (Only considering Tip amount,Without the Bill amount)\n",
    "Ybar = np.mean(Y) #Mean Tip amt\n",
    "StdDevY = Y-Ybar \n",
    "StdDevY"
   ]
  },
  {
   "cell_type": "code",
   "execution_count": 5,
   "metadata": {},
   "outputs": [
    {
     "name": "stdout",
     "output_type": "stream",
     "text": [
      "The Sum Squared Error is : 120.0\n",
      "The Sum Squared Error is EQUAL to Total Sum squared Error SST : SST = SSE\n"
     ]
    }
   ],
   "source": [
    "#calculate sum of Squared the residuals(SSE)\n",
    "SSE = np.sum(StdDevY**2)\n",
    "print(\"The Sum Squared Error is : \"+ str(SSE))\n",
    "\n",
    "SST = SSE\n",
    "print(\"The Sum Squared Error is EQUAL to Total Sum squared Error SST : SST = SSE\")\n"
   ]
  },
  {
   "cell_type": "code",
   "execution_count": 6,
   "metadata": {},
   "outputs": [
    {
     "name": "stdout",
     "output_type": "stream",
     "text": [
      "Centroid through which the Regression line will go : (10.0,74.0)\n"
     ]
    }
   ],
   "source": [
    "#Finding the Centroid for the best fit line (Now taking bill amount into consideration)\n",
    "Ybar = np.mean(Y) #Mean Tip amt\n",
    "\n",
    "Xbar = np.mean(X) #Mean Bill amt\n",
    "print('Centroid through which the Regression line will go : ('+ str(Ybar) +','+str(Xbar)+')')"
   ]
  },
  {
   "cell_type": "code",
   "execution_count": 7,
   "metadata": {},
   "outputs": [
    {
     "name": "stdout",
     "output_type": "stream",
     "text": [
      "Slope b1 and intercept b0 for regression line 0.14621968616262482 -0.8202567760342365\n",
      "Regression line equation Yhat = b0 + b1*x is : Yhat = 0.14621968616262482 + -0.8202567760342365 * x\n"
     ]
    }
   ],
   "source": [
    "#Now we need the slop b1 and y-intercept b0 from yhat=b0 + b1(x)\n",
    "#FIRST FIND SLOP b1\n",
    "\n",
    "#b1=sum((x(i) - xbar)*(y(i)-ybar))/(sum((x(i) - xbar)^2))\n",
    "\n",
    "b1 = np.sum((X-Xbar)*(Y-Ybar))/np.sum((X-Xbar)**2)\n",
    "\n",
    "#Then  FIND y intercept b0 using the mean line equation Ybar= b0 + b1Xbar. HOOLLYYY (y-y1)=m(x-x1)\n",
    "\n",
    "b0 = Ybar-(Xbar*b1)\n",
    "\n",
    "print(\"Slope b1 and intercept b0 for regression line \" +str(b1)+' '+str(b0))\n",
    "\n",
    "print(\"Regression line equation Yhat = b0 + b1*x is : Yhat = \" +str(b1)+' + '+str(b0)+' * x')\n"
   ]
  },
  {
   "cell_type": "code",
   "execution_count": 8,
   "metadata": {},
   "outputs": [
    {
     "name": "stdout",
     "output_type": "stream",
     "text": [
      "[[ 5.11768902 15.93794579  9.5042796  13.01355207 14.62196862  7.60342368]]\n"
     ]
    }
   ],
   "source": [
    "#Now calculate the Predicted Yhat (TIPS) using the Regression line equation\n",
    "Yhat = b1 + (X*b1)\n",
    "print(Yhat)"
   ]
  },
  {
   "cell_type": "code",
   "execution_count": 9,
   "metadata": {},
   "outputs": [
    {
     "data": {
      "image/png": "[encoded data removed]",
      "text/plain": [
       "<Figure size 432x288 with 1 Axes>"
      ]
     },
     "metadata": {
      "needs_background": "light"
     },
     "output_type": "display_data"
    }
   ],
   "source": [
    "plt.plot(X,Y,'.r')#Actual data\n",
    "#Mean line which is the best estimate with only 1 Dependant var TIPS for pridiction.It has MAX SSE = SST\n",
    "plt.plot(X,(X*0+Ybar),'.g')\n",
    "plt.plot(X,Yhat,'.b')#Regression Line Prediction\n",
    "plt.show()"
   ]
  },
  {
   "cell_type": "code",
   "execution_count": 10,
   "metadata": {},
   "outputs": [
    {
     "name": "stdout",
     "output_type": "stream",
     "text": [
      "TOTAL SUM OF SQUARES (SST) : 120\n",
      "Sum Squared Error wrt regression line (SSE): 35.679353521869096\n",
      "Sum Squares due to regression (SSR): 84.3206464781309\n"
     ]
    }
   ],
   "source": [
    "# With both Dependant var (TIPS) and Independant var (Bill amt) the TOTAL SUM OF SQUARES (SST) remains the same\n",
    "SST = 120\n",
    "print('TOTAL SUM OF SQUARES (SST) : ' + str(SST))\n",
    "# BUT after regression, the sum squred error SSE is reduced significantly. The better the model fits the data the \n",
    "# lesser is  the SSE.\n",
    "# The difference between SST and SSE is called SSR sum of squares due to regression.SST = SSE + SSR\n",
    "SSE = np.sum((Y-Yhat)**2)\n",
    "print('Sum Squared Error wrt regression line (SSE): ' + str(SSE))\n",
    "# Notice that the SSE reduced from 120 to 35\n",
    "SSR = SST - SSE\n",
    "print('Sum Squares due to regression (SSR): ' + str(SSR))\n",
    "# Notice that the SSE reduced from 120 to 35\n"
   ]
  },
  {
   "cell_type": "markdown",
   "metadata": {},
   "source": [
    "#The Coeffecient of Determination tells how well does the estimated regression equation fit our data\n",
    "\n",
    "R_Square=SSR/SST"
   ]
  },
  {
   "cell_type": "code",
   "execution_count": 11,
   "metadata": {},
   "outputs": [
    {
     "name": "stdout",
     "output_type": "stream",
     "text": [
      "The Coeffecient of Determination : 0.7026720539844241\n"
     ]
    }
   ],
   "source": [
    "R_Square=SSR/SST\n",
    "print('The Coeffecient of Determination : '+str(R_Square))"
   ]
  },
  {
   "cell_type": "code",
   "execution_count": 13,
   "metadata": {},
   "outputs": [
    {
     "data": {
      "text/plain": [
       "8.919838380467274"
      ]
     },
     "execution_count": 13,
     "metadata": {},
     "output_type": "execute_result"
    }
   ],
   "source": [
    "# MSE s² is estimate of population variance sigma² of error epsilon How spread are points from reg line\n",
    "MSE = SSE/(6-2)\n",
    "MSE"
   ]
  },
  {
   "cell_type": "code",
   "execution_count": 14,
   "metadata": {},
   "outputs": [
    {
     "data": {
      "text/plain": [
       "2.9866098473800147"
      ]
     },
     "execution_count": 14,
     "metadata": {},
     "output_type": "execute_result"
    }
   ],
   "source": [
    "# s is standard error sigma\n",
    "s=np.sqrt(MSE)\n",
    "s"
   ]
  },
  {
   "cell_type": "code",
   "execution_count": 15,
   "metadata": {},
   "outputs": [
    {
     "name": "stdout",
     "output_type": "stream",
     "text": [
      "SSE : 35.679353521869096\n",
      "MSE : 8.919838380467274\n",
      "Standard error(deviation) : 2.9866098473800147\n"
     ]
    }
   ],
   "source": [
    "print('SSE : ' + str(SSE))\n",
    "print('MSE : ' + str(MSE))\n",
    "print('Standard error(deviation) : ' + str(s))\n"
   ]
  },
  {
   "cell_type": "markdown",
   "metadata": {},
   "source": [
    "#Since everything is an estimate here we need to know the CI for each estimator\n",
    "\n",
    "b1 = slope estimate for pop regresion line\n",
    "\n",
    "b0 = intercept estimate for pop regression line\n",
    "\n",
    "Centroid - (Xbar,Ybar) = mean of each variable\n",
    "\n",
    "The mean value of Yhat for any value of x (confidence interval)\n",
    "\n",
    "The individual value of Yhat for any value of x (prediction interval)\n",
    "\n",
    "Also variance etc etc"
   ]
  },
  {
   "cell_type": "markdown",
   "metadata": {},
   "source": [
    "### Confidence Interval for slope b1 with 95% CL\n",
    "b1 +- t alpha/2 * sb1 where sb1 is std dev of slope\n",
    "\n",
    "sb1= s/(sqrt(sum(Xi - Xbar)²))\n"
   ]
  },
  {
   "cell_type": "code",
   "execution_count": 26,
   "metadata": {},
   "outputs": [
    {
     "name": "stdout",
     "output_type": "stream",
     "text": [
      "Slope b1 of regression line :0.14621968616262482\n",
      "Standard error for slope : 0.04605150825303429\n",
      "95 % Confidence interval for slope b1 : (0.01838069925220162 , 0.274058673073048)\n"
     ]
    }
   ],
   "source": [
    "print(\"Slope b1 of regression line :\" +str(b1))\n",
    "sb1=s/(np.sqrt(np.sum((X-Xbar)**2)))\n",
    "print('Standard error for slope : ' + str(sb1))\n",
    "\n",
    "print('95 % Confidence interval for slope b1 : (' + str(b1-(2.776 * sb1))+' , '+str(b1+(2.776 * sb1))+')')"
   ]
  },
  {
   "cell_type": "markdown",
   "metadata": {},
   "source": [
    "The Slope CI doesnot contain 0 . \n",
    "\n",
    "t test of significance =>  H0:= B1 = 0    H1:= B1 != 0\n",
    "\n"
   ]
  }
 ],
 "metadata": {
  "kernelspec": {
   "display_name": "Python 3",
   "language": "python",
   "name": "python3"
  },
  "language_info": {
   "codemirror_mode": {
    "name": "ipython",
    "version": 3
   },
   "file_extension": ".py",
   "mimetype": "text/x-python",
   "name": "python",
   "nbconvert_exporter": "python",
   "pygments_lexer": "ipython3",
   "version": "3.7.3"
  }
 },
 "nbformat": 4,
 "nbformat_minor": 2
}
